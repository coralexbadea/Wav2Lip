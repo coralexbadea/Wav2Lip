{
  "nbformat": 4,
  "nbformat_minor": 0,
  "metadata": {
    "colab": {
      "name": "TextToVoiceToTalk.ipynb",
      "provenance": [],
      "collapsed_sections": [],
      "mount_file_id": "1lubUgx3BYxdUK00AhPRfMA4dYQAhsAtn",
      "authorship_tag": "ABX9TyMsJ2hxYzxldK4WOmo2BWKD",
      "include_colab_link": true
    },
    "kernelspec": {
      "name": "python3",
      "display_name": "Python 3"
    }
  },
  "cells": [
    {
      "cell_type": "markdown",
      "metadata": {
        "id": "view-in-github",
        "colab_type": "text"
      },
      "source": [
        "<a href=\"https://colab.research.google.com/github/coralexbadea/Wav2Lip/blob/master/TextToVoiceToTalk.ipynb\" target=\"_parent\"><img src=\"https://colab.research.google.com/assets/colab-badge.svg\" alt=\"Open In Colab\"/></a>"
      ]
    },
    {
      "cell_type": "code",
      "metadata": {
        "id": "us2Z22v2vzXA",
        "outputId": "052b06d2-c226-46bc-b4a9-b8fffcb6c4b1",
        "colab": {
          "base_uri": "https://localhost:8080/"
        }
      },
      "source": [
        "!cd /content/ && git clone https://github.com/coralexbadea/Real-Time-Voice-Cloning.git"
      ],
      "execution_count": null,
      "outputs": [
        {
          "output_type": "stream",
          "text": [
            "Cloning into 'Real-Time-Voice-Cloning'...\n",
            "remote: Enumerating objects: 1, done.\u001b[K\n",
            "remote: Counting objects: 100% (1/1), done.\u001b[K\n",
            "remote: Total 2540 (delta 0), reused 0 (delta 0), pack-reused 2539\u001b[K\n",
            "Receiving objects: 100% (2540/2540), 360.90 MiB | 11.94 MiB/s, done.\n",
            "Resolving deltas: 100% (1405/1405), done.\n"
          ],
          "name": "stdout"
        }
      ]
    },
    {
      "cell_type": "markdown",
      "metadata": {
        "id": "BNqgUrnX-648"
      },
      "source": [
        "You should add everything in the following folder to you drive : https://drive.google.com/drive/folders/1enEz-XfDiCuz6eU7DJZYGcV1d_ASUXCG?usp=sharing (not the folder itself)\n"
      ]
    },
    {
      "cell_type": "code",
      "metadata": {
        "id": "Adp_VKBvv18o",
        "outputId": "0d313c5f-0b7a-4daa-bb20-b55a1fa7c3c9",
        "colab": {
          "base_uri": "https://localhost:8080/"
        }
      },
      "source": [
        "cd /content/Real-Time-Voice-Cloning/"
      ],
      "execution_count": 131,
      "outputs": [
        {
          "output_type": "stream",
          "text": [
            "/content/Real-Time-Voice-Cloning\n"
          ],
          "name": "stdout"
        }
      ]
    },
    {
      "cell_type": "code",
      "metadata": {
        "id": "8wGnxMdxwHHE",
        "outputId": "bc4b5209-cb32-4251-8c59-5351c81d5012",
        "colab": {
          "base_uri": "https://localhost:8080/"
        }
      },
      "source": [
        "!pip install -r requirements.txt"
      ],
      "execution_count": 132,
      "outputs": [
        {
          "output_type": "stream",
          "text": [
            "Requirement already satisfied: tensorflow==1.15 in /usr/local/lib/python3.6/dist-packages (from -r requirements.txt (line 1)) (1.15.0)\n",
            "Requirement already satisfied: umap-learn in /usr/local/lib/python3.6/dist-packages (from -r requirements.txt (line 2)) (0.4.6)\n",
            "Requirement already satisfied: visdom in /usr/local/lib/python3.6/dist-packages (from -r requirements.txt (line 3)) (0.1.8.9)\n",
            "Requirement already satisfied: librosa>=0.8.0 in /usr/local/lib/python3.6/dist-packages (from -r requirements.txt (line 4)) (0.8.0)\n",
            "Requirement already satisfied: matplotlib>=3.3.0 in /usr/local/lib/python3.6/dist-packages (from -r requirements.txt (line 5)) (3.3.2)\n",
            "Requirement already satisfied: numpy>=1.14.0 in /usr/local/lib/python3.6/dist-packages (from -r requirements.txt (line 6)) (1.17.1)\n",
            "Requirement already satisfied: scipy>=1.0.0 in /usr/local/lib/python3.6/dist-packages (from -r requirements.txt (line 7)) (1.4.1)\n",
            "Requirement already satisfied: tqdm in /usr/local/lib/python3.6/dist-packages (from -r requirements.txt (line 8)) (4.45.0)\n",
            "Requirement already satisfied: sounddevice in /usr/local/lib/python3.6/dist-packages (from -r requirements.txt (line 9)) (0.4.1)\n",
            "Requirement already satisfied: SoundFile in /usr/local/lib/python3.6/dist-packages (from -r requirements.txt (line 10)) (0.10.3.post1)\n",
            "Requirement already satisfied: Unidecode in /usr/local/lib/python3.6/dist-packages (from -r requirements.txt (line 11)) (1.1.1)\n",
            "Requirement already satisfied: inflect in /usr/local/lib/python3.6/dist-packages (from -r requirements.txt (line 12)) (2.1.0)\n",
            "Requirement already satisfied: PyQt5 in /usr/local/lib/python3.6/dist-packages (from -r requirements.txt (line 13)) (5.15.1)\n",
            "Requirement already satisfied: multiprocess in /usr/local/lib/python3.6/dist-packages (from -r requirements.txt (line 14)) (0.70.10)\n",
            "Requirement already satisfied: numba in /usr/local/lib/python3.6/dist-packages (from -r requirements.txt (line 15)) (0.48.0)\n",
            "Requirement already satisfied: protobuf>=3.6.1 in /usr/local/lib/python3.6/dist-packages (from tensorflow==1.15->-r requirements.txt (line 1)) (3.12.4)\n",
            "Requirement already satisfied: gast==0.2.2 in /usr/local/lib/python3.6/dist-packages (from tensorflow==1.15->-r requirements.txt (line 1)) (0.2.2)\n",
            "Requirement already satisfied: absl-py>=0.7.0 in /usr/local/lib/python3.6/dist-packages (from tensorflow==1.15->-r requirements.txt (line 1)) (0.10.0)\n",
            "Requirement already satisfied: tensorboard<1.16.0,>=1.15.0 in /usr/local/lib/python3.6/dist-packages (from tensorflow==1.15->-r requirements.txt (line 1)) (1.15.0)\n",
            "Requirement already satisfied: wheel>=0.26 in /usr/local/lib/python3.6/dist-packages (from tensorflow==1.15->-r requirements.txt (line 1)) (0.35.1)\n",
            "Requirement already satisfied: termcolor>=1.1.0 in /usr/local/lib/python3.6/dist-packages (from tensorflow==1.15->-r requirements.txt (line 1)) (1.1.0)\n",
            "Requirement already satisfied: six>=1.10.0 in /usr/local/lib/python3.6/dist-packages (from tensorflow==1.15->-r requirements.txt (line 1)) (1.15.0)\n",
            "Requirement already satisfied: wrapt>=1.11.1 in /usr/local/lib/python3.6/dist-packages (from tensorflow==1.15->-r requirements.txt (line 1)) (1.12.1)\n",
            "Requirement already satisfied: keras-applications>=1.0.8 in /usr/local/lib/python3.6/dist-packages (from tensorflow==1.15->-r requirements.txt (line 1)) (1.0.8)\n",
            "Requirement already satisfied: google-pasta>=0.1.6 in /usr/local/lib/python3.6/dist-packages (from tensorflow==1.15->-r requirements.txt (line 1)) (0.2.0)\n",
            "Requirement already satisfied: tensorflow-estimator==1.15.1 in /usr/local/lib/python3.6/dist-packages (from tensorflow==1.15->-r requirements.txt (line 1)) (1.15.1)\n",
            "Requirement already satisfied: opt-einsum>=2.3.2 in /usr/local/lib/python3.6/dist-packages (from tensorflow==1.15->-r requirements.txt (line 1)) (3.3.0)\n",
            "Requirement already satisfied: grpcio>=1.8.6 in /usr/local/lib/python3.6/dist-packages (from tensorflow==1.15->-r requirements.txt (line 1)) (1.33.1)\n",
            "Requirement already satisfied: astor>=0.6.0 in /usr/local/lib/python3.6/dist-packages (from tensorflow==1.15->-r requirements.txt (line 1)) (0.8.1)\n",
            "Requirement already satisfied: keras-preprocessing>=1.0.5 in /usr/local/lib/python3.6/dist-packages (from tensorflow==1.15->-r requirements.txt (line 1)) (1.1.2)\n",
            "Requirement already satisfied: scikit-learn>=0.20 in /usr/local/lib/python3.6/dist-packages (from umap-learn->-r requirements.txt (line 2)) (0.22.2.post1)\n",
            "Requirement already satisfied: pyzmq in /usr/local/lib/python3.6/dist-packages (from visdom->-r requirements.txt (line 3)) (19.0.2)\n",
            "Requirement already satisfied: jsonpatch in /usr/local/lib/python3.6/dist-packages (from visdom->-r requirements.txt (line 3)) (1.26)\n",
            "Requirement already satisfied: websocket-client in /usr/local/lib/python3.6/dist-packages (from visdom->-r requirements.txt (line 3)) (0.57.0)\n",
            "Requirement already satisfied: tornado in /usr/local/lib/python3.6/dist-packages (from visdom->-r requirements.txt (line 3)) (5.1.1)\n",
            "Requirement already satisfied: torchfile in /usr/local/lib/python3.6/dist-packages (from visdom->-r requirements.txt (line 3)) (0.1.0)\n",
            "Requirement already satisfied: pillow in /usr/local/lib/python3.6/dist-packages (from visdom->-r requirements.txt (line 3)) (7.0.0)\n",
            "Requirement already satisfied: requests in /usr/local/lib/python3.6/dist-packages (from visdom->-r requirements.txt (line 3)) (2.23.0)\n",
            "Requirement already satisfied: pooch>=1.0 in /usr/local/lib/python3.6/dist-packages (from librosa>=0.8.0->-r requirements.txt (line 4)) (1.2.0)\n",
            "Requirement already satisfied: joblib>=0.14 in /usr/local/lib/python3.6/dist-packages (from librosa>=0.8.0->-r requirements.txt (line 4)) (0.17.0)\n",
            "Requirement already satisfied: audioread>=2.0.0 in /usr/local/lib/python3.6/dist-packages (from librosa>=0.8.0->-r requirements.txt (line 4)) (2.1.9)\n",
            "Requirement already satisfied: resampy>=0.2.2 in /usr/local/lib/python3.6/dist-packages (from librosa>=0.8.0->-r requirements.txt (line 4)) (0.2.2)\n",
            "Requirement already satisfied: decorator>=3.0.0 in /usr/local/lib/python3.6/dist-packages (from librosa>=0.8.0->-r requirements.txt (line 4)) (4.4.2)\n",
            "Requirement already satisfied: certifi>=2020.06.20 in /usr/local/lib/python3.6/dist-packages (from matplotlib>=3.3.0->-r requirements.txt (line 5)) (2020.6.20)\n",
            "Requirement already satisfied: pyparsing!=2.0.4,!=2.1.2,!=2.1.6,>=2.0.3 in /usr/local/lib/python3.6/dist-packages (from matplotlib>=3.3.0->-r requirements.txt (line 5)) (2.4.7)\n",
            "Requirement already satisfied: python-dateutil>=2.1 in /usr/local/lib/python3.6/dist-packages (from matplotlib>=3.3.0->-r requirements.txt (line 5)) (2.8.1)\n",
            "Requirement already satisfied: cycler>=0.10 in /usr/local/lib/python3.6/dist-packages (from matplotlib>=3.3.0->-r requirements.txt (line 5)) (0.10.0)\n",
            "Requirement already satisfied: kiwisolver>=1.0.1 in /usr/local/lib/python3.6/dist-packages (from matplotlib>=3.3.0->-r requirements.txt (line 5)) (1.2.0)\n",
            "Requirement already satisfied: CFFI>=1.0 in /usr/local/lib/python3.6/dist-packages (from sounddevice->-r requirements.txt (line 9)) (1.14.3)\n",
            "Requirement already satisfied: PyQt5-sip<13,>=12.8 in /usr/local/lib/python3.6/dist-packages (from PyQt5->-r requirements.txt (line 13)) (12.8.1)\n",
            "Requirement already satisfied: dill>=0.3.2 in /usr/local/lib/python3.6/dist-packages (from multiprocess->-r requirements.txt (line 14)) (0.3.2)\n",
            "Requirement already satisfied: llvmlite<0.32.0,>=0.31.0dev0 in /usr/local/lib/python3.6/dist-packages (from numba->-r requirements.txt (line 15)) (0.31.0)\n",
            "Requirement already satisfied: setuptools in /usr/local/lib/python3.6/dist-packages (from numba->-r requirements.txt (line 15)) (50.3.2)\n",
            "Requirement already satisfied: werkzeug>=0.11.15 in /usr/local/lib/python3.6/dist-packages (from tensorboard<1.16.0,>=1.15.0->tensorflow==1.15->-r requirements.txt (line 1)) (1.0.1)\n",
            "Requirement already satisfied: markdown>=2.6.8 in /usr/local/lib/python3.6/dist-packages (from tensorboard<1.16.0,>=1.15.0->tensorflow==1.15->-r requirements.txt (line 1)) (3.3.2)\n",
            "Requirement already satisfied: h5py in /usr/local/lib/python3.6/dist-packages (from keras-applications>=1.0.8->tensorflow==1.15->-r requirements.txt (line 1)) (2.10.0)\n",
            "Requirement already satisfied: jsonpointer>=1.9 in /usr/local/lib/python3.6/dist-packages (from jsonpatch->visdom->-r requirements.txt (line 3)) (2.0)\n",
            "Requirement already satisfied: urllib3!=1.25.0,!=1.25.1,<1.26,>=1.21.1 in /usr/local/lib/python3.6/dist-packages (from requests->visdom->-r requirements.txt (line 3)) (1.24.3)\n",
            "Requirement already satisfied: chardet<4,>=3.0.2 in /usr/local/lib/python3.6/dist-packages (from requests->visdom->-r requirements.txt (line 3)) (3.0.4)\n",
            "Requirement already satisfied: idna<3,>=2.5 in /usr/local/lib/python3.6/dist-packages (from requests->visdom->-r requirements.txt (line 3)) (2.10)\n",
            "Requirement already satisfied: appdirs in /usr/local/lib/python3.6/dist-packages (from pooch>=1.0->librosa>=0.8.0->-r requirements.txt (line 4)) (1.4.4)\n",
            "Requirement already satisfied: packaging in /usr/local/lib/python3.6/dist-packages (from pooch>=1.0->librosa>=0.8.0->-r requirements.txt (line 4)) (20.4)\n",
            "Requirement already satisfied: pycparser in /usr/local/lib/python3.6/dist-packages (from CFFI>=1.0->sounddevice->-r requirements.txt (line 9)) (2.20)\n",
            "Requirement already satisfied: importlib-metadata; python_version < \"3.8\" in /usr/local/lib/python3.6/dist-packages (from markdown>=2.6.8->tensorboard<1.16.0,>=1.15.0->tensorflow==1.15->-r requirements.txt (line 1)) (2.0.0)\n",
            "Requirement already satisfied: zipp>=0.5 in /usr/local/lib/python3.6/dist-packages (from importlib-metadata; python_version < \"3.8\"->markdown>=2.6.8->tensorboard<1.16.0,>=1.15.0->tensorflow==1.15->-r requirements.txt (line 1)) (3.3.1)\n"
          ],
          "name": "stdout"
        }
      ]
    },
    {
      "cell_type": "code",
      "metadata": {
        "id": "sAi7ILmHwRRE",
        "outputId": "6b8dc396-d0b0-42cc-eedd-125ef89826d1",
        "colab": {
          "base_uri": "https://localhost:8080/"
        }
      },
      "source": [
        "!pip install torchvision && pip install tika"
      ],
      "execution_count": 135,
      "outputs": [
        {
          "output_type": "stream",
          "text": [
            "Requirement already satisfied: torchvision in /usr/local/lib/python3.6/dist-packages (0.3.0)\n",
            "Requirement already satisfied: torch>=1.1.0 in /usr/local/lib/python3.6/dist-packages (from torchvision) (1.1.0)\n",
            "Requirement already satisfied: numpy in /usr/local/lib/python3.6/dist-packages (from torchvision) (1.17.1)\n",
            "Requirement already satisfied: pillow>=4.1.1 in /usr/local/lib/python3.6/dist-packages (from torchvision) (7.0.0)\n",
            "Requirement already satisfied: six in /usr/local/lib/python3.6/dist-packages (from torchvision) (1.15.0)\n",
            "Collecting tika\n",
            "  Downloading https://files.pythonhosted.org/packages/96/07/244fbb9c74c0de8a3745cc9f3f496077a29f6418c7cbd90d68fd799574cb/tika-1.24.tar.gz\n",
            "Requirement already satisfied: setuptools in /usr/local/lib/python3.6/dist-packages (from tika) (50.3.2)\n",
            "Requirement already satisfied: requests in /usr/local/lib/python3.6/dist-packages (from tika) (2.23.0)\n",
            "Requirement already satisfied: idna<3,>=2.5 in /usr/local/lib/python3.6/dist-packages (from requests->tika) (2.10)\n",
            "Requirement already satisfied: urllib3!=1.25.0,!=1.25.1,<1.26,>=1.21.1 in /usr/local/lib/python3.6/dist-packages (from requests->tika) (1.24.3)\n",
            "Requirement already satisfied: chardet<4,>=3.0.2 in /usr/local/lib/python3.6/dist-packages (from requests->tika) (3.0.4)\n",
            "Requirement already satisfied: certifi>=2017.4.17 in /usr/local/lib/python3.6/dist-packages (from requests->tika) (2020.6.20)\n",
            "Building wheels for collected packages: tika\n",
            "  Building wheel for tika (setup.py) ... \u001b[?25l\u001b[?25hdone\n",
            "  Created wheel for tika: filename=tika-1.24-cp36-none-any.whl size=32884 sha256=652991a7c171cdd6b5762856bef5f3cca1fae9dea6f2765b2cc6c2021d42d742\n",
            "  Stored in directory: /root/.cache/pip/wheels/73/9c/f5/0b1b738442fc2a2862bef95b908b374f8e80215550fb2a8975\n",
            "Successfully built tika\n",
            "Installing collected packages: tika\n",
            "Successfully installed tika-1.24\n"
          ],
          "name": "stdout"
        }
      ]
    },
    {
      "cell_type": "code",
      "metadata": {
        "id": "P8zPNJwoxR_Q",
        "outputId": "02c0a2aa-7299-48b0-abb5-74d7680d42f4",
        "colab": {
          "base_uri": "https://localhost:8080/"
        }
      },
      "source": [
        "cd /content/Real-Time-Voice-Cloning/"
      ],
      "execution_count": 134,
      "outputs": [
        {
          "output_type": "stream",
          "text": [
            "/content/Real-Time-Voice-Cloning\n"
          ],
          "name": "stdout"
        }
      ]
    },
    {
      "cell_type": "markdown",
      "metadata": {
        "id": "WxRswVIqxU3o"
      },
      "source": [
        "!python demo_cli.py -e '/content/drive/My Drive/pretrained/encoder/saved_models/pretrained.pt' -s '/content/drive/My Drive/pretrained/synthesizer/saved_models/logs-pretrained' -v '/content/drive/My Drive/pretrained/vocoder/saved_models/pretrained/pretrained.pt' -p \"/content/drive/My Drive/angelina.mp3\""
      ]
    },
    {
      "cell_type": "code",
      "metadata": {
        "id": "j_9lY7e3qlJc",
        "outputId": "f8744fa8-e1be-434a-fc0a-e37e09cd05b1",
        "colab": {
          "base_uri": "https://localhost:8080/"
        }
      },
      "source": [
        "!python demo_cli.py -e '/content/drive/My Drive/pretrained/encoder/saved_models/pretrained.pt' -s '/content/drive/My Drive/pretrained/synthesizer/saved_models/logs-pretrained' -v '/content/drive/My Drive/pretrained/vocoder/saved_models/pretrained/pretrained.pt' -p \"/content/drive/My Drive/angelina.mp3\" -f \"/content/drive/My Drive/paper.pdf\""
      ],
      "execution_count": null,
      "outputs": [
        {
          "output_type": "stream",
          "text": [
            "/content/Real-Time-Voice-Cloning/encoder/audio.py:13: UserWarning: Unable to import 'webrtcvad'. This package enables noise removal and is recommended.\n",
            "  warn(\"Unable to import 'webrtcvad'. This package enables noise removal and is recommended.\")\n",
            "Arguments:\n",
            "    enc_model_fpath:   /content/drive/My Drive/pretrained/encoder/saved_models/pretrained.pt\n",
            "    syn_model_dir:     /content/drive/My Drive/pretrained/synthesizer/saved_models/logs-pretrained\n",
            "    voc_model_fpath:   /content/drive/My Drive/pretrained/vocoder/saved_models/pretrained/pretrained.pt\n",
            "    path_voice:        /content/drive/My Drive/angelina.mp3\n",
            "    pdf_file:          /content/drive/My Drive/paper.pdf\n",
            "    low_mem:           False\n",
            "    no_sound:          False\n",
            "    seed:              None\n",
            "    no_mp3_support:    False\n",
            "\n",
            "/usr/local/lib/python3.6/dist-packages/librosa/core/audio.py:162: UserWarning: PySoundFile failed. Trying audioread instead.\n",
            "  warnings.warn(\"PySoundFile failed. Trying audioread instead.\")\n",
            "Running a test of your configuration...\n",
            "\n",
            "Using CPU for inference.\n",
            "\n",
            "Preparing the encoder, the synthesizer and the vocoder...\n",
            "Loaded encoder \"pretrained.pt\" trained to step 1564501\n",
            "Found synthesizer \"pretrained\" trained to step 278000\n",
            "Building Wave-RNN\n",
            "Trainable Parameters: 4.481M\n",
            "Loading model weights at /content/drive/My Drive/pretrained/vocoder/saved_models/pretrained/pretrained.pt\n",
            "This is a GUI-less example of interface to SV2TTS. The purpose of this script is to show how you can interface this project easily with your own. See the source code for an explanation of what is happening.\n",
            "\n",
            "Interactive generation loop\n",
            "/usr/local/lib/python3.6/dist-packages/librosa/core/audio.py:162: UserWarning: PySoundFile failed. Trying audioread instead.\n",
            "  warnings.warn(\"PySoundFile failed. Trying audioread instead.\")\n",
            "/usr/local/lib/python3.6/dist-packages/librosa/core/audio.py:162: UserWarning: PySoundFile failed. Trying audioread instead.\n",
            "  warnings.warn(\"PySoundFile failed. Trying audioread instead.\")\n",
            "Loaded file succesfully\n",
            "Created the embedding\n",
            "['\\n \\n \\n \\n \\n \\n \\n \\n \\n \\n \\n \\n \\n \\n \\n \\n \\n \\n \\n \\n \\n \\n \\n \\n \\n \\n \\n \\n \\n \\n \\n \\n \\n \\n \\n \\n \\n \\n \\n \\n \\n \\n \\n \\n \\n \\n \\n \\n \\n \\n \\n \\n \\n \\n \\n \\n \\n \\n T r a n s f e r   L e a r n i n g   f r o m   S p e a k e r   V e r i f i c a t i o n   t o \\n M u l t i s p e a k e r   T e x t - T o - S p e e c h   S y n t h e s i s \\n \\n Y e   J i a ∗   Y u   Z h a n g ∗   R o n   J']\n",
            "Constructing model: Tacotron\n",
            "WARNING:tensorflow:From /content/Real-Time-Voice-Cloning/synthesizer/models/modules.py:113: LSTMCell.__init__ (from tensorflow.python.ops.rnn_cell_impl) is deprecated and will be removed in a future version.\n",
            "Instructions for updating:\n",
            "This class is equivalent as tf.keras.layers.LSTMCell, and will be replaced by that in Tensorflow 2.0.\n",
            "WARNING:tensorflow:From /content/Real-Time-Voice-Cloning/synthesizer/models/modules.py:420: conv1d (from tensorflow.python.layers.convolutional) is deprecated and will be removed in a future version.\n",
            "Instructions for updating:\n",
            "Use `tf.keras.layers.Conv1D` instead.\n",
            "WARNING:tensorflow:From /usr/local/lib/python3.6/dist-packages/tensorflow_core/python/layers/convolutional.py:218: Layer.apply (from tensorflow.python.keras.engine.base_layer) is deprecated and will be removed in a future version.\n",
            "Instructions for updating:\n",
            "Please use `layer.__call__` method instead.\n",
            "WARNING:tensorflow:From /content/Real-Time-Voice-Cloning/synthesizer/models/modules.py:421: batch_normalization (from tensorflow.python.layers.normalization) is deprecated and will be removed in a future version.\n",
            "Instructions for updating:\n",
            "Use keras.layers.BatchNormalization instead.  In particular, `tf.control_dependencies(tf.GraphKeys.UPDATE_OPS)` should not be used (consult the `tf.keras.layers.batch_normalization` documentation).\n",
            "WARNING:tensorflow:From /content/Real-Time-Voice-Cloning/synthesizer/models/modules.py:424: dropout (from tensorflow.python.layers.core) is deprecated and will be removed in a future version.\n",
            "Instructions for updating:\n",
            "Use keras.layers.dropout instead.\n",
            "WARNING:tensorflow:From /content/Real-Time-Voice-Cloning/synthesizer/models/modules.py:234: bidirectional_dynamic_rnn (from tensorflow.python.ops.rnn) is deprecated and will be removed in a future version.\n",
            "Instructions for updating:\n",
            "Please use `keras.layers.Bidirectional(keras.layers.RNN(cell))`, which is equivalent to this API\n",
            "WARNING:tensorflow:From /usr/local/lib/python3.6/dist-packages/tensorflow_core/python/ops/rnn.py:464: dynamic_rnn (from tensorflow.python.ops.rnn) is deprecated and will be removed in a future version.\n",
            "Instructions for updating:\n",
            "Please use `keras.layers.RNN(cell)`, which is equivalent to this API\n",
            "WARNING:tensorflow:From /usr/local/lib/python3.6/dist-packages/tensorflow_core/python/ops/rnn_cell_impl.py:958: Layer.add_variable (from tensorflow.python.keras.engine.base_layer) is deprecated and will be removed in a future version.\n",
            "Instructions for updating:\n",
            "Please use `layer.add_weight` method instead.\n",
            "WARNING:tensorflow:From /usr/local/lib/python3.6/dist-packages/tensorflow_core/python/ops/rnn_cell_impl.py:962: calling Zeros.__init__ (from tensorflow.python.ops.init_ops) with dtype is deprecated and will be removed in a future version.\n",
            "Instructions for updating:\n",
            "Call initializer instance with the dtype argument instead of passing it to the constructor\n",
            "WARNING:tensorflow:From /usr/local/lib/python3.6/dist-packages/tensorflow_core/python/ops/rnn.py:244: where (from tensorflow.python.ops.array_ops) is deprecated and will be removed in a future version.\n",
            "Instructions for updating:\n",
            "Use tf.where in 2.0, which has the same broadcast rule as np.where\n",
            "WARNING:tensorflow:From /content/Real-Time-Voice-Cloning/synthesizer/models/modules.py:304: MultiRNNCell.__init__ (from tensorflow.python.ops.rnn_cell_impl) is deprecated and will be removed in a future version.\n",
            "Instructions for updating:\n",
            "This class is equivalent as tf.keras.layers.StackedRNNCells, and will be replaced by that in Tensorflow 2.0.\n",
            "WARNING:tensorflow:From /content/Real-Time-Voice-Cloning/synthesizer/models/modules.py:268: dense (from tensorflow.python.layers.core) is deprecated and will be removed in a future version.\n",
            "Instructions for updating:\n",
            "Use keras.layers.Dense instead.\n",
            "WARNING:tensorflow:\n",
            "The TensorFlow contrib module will not be included in TensorFlow 2.0.\n",
            "For more information, please see:\n",
            "  * https://github.com/tensorflow/community/blob/master/rfcs/20180907-contrib-sunset.md\n",
            "  * https://github.com/tensorflow/addons\n",
            "  * https://github.com/tensorflow/io (for I/O related ops)\n",
            "If you depend on functionality not listed there, please file an issue.\n",
            "\n",
            "initialisation done /gpu:0\n",
            "Initialized Tacotron model. Dimensions (? = dynamic shape): \n",
            "  Train mode:               False\n",
            "  Eval mode:                False\n",
            "  GTA mode:                 False\n",
            "  Synthesis mode:           True\n",
            "  Input:                    (?, ?)\n",
            "  device:                   0\n",
            "  embedding:                (?, ?, 512)\n",
            "  enc conv out:             (?, ?, 512)\n",
            "  encoder out (cond):       (?, ?, 768)\n",
            "  decoder out:              (?, ?, 80)\n",
            "  residual out:             (?, ?, 512)\n",
            "  projected residual out:   (?, ?, 80)\n",
            "  mel out:                  (?, ?, 80)\n",
            "  <stop_token> out:         (?, ?)\n",
            "  Tacotron Parameters       28.439 Million.\n",
            "Loading checkpoint: /content/drive/My Drive/pretrained/synthesizer/saved_models/logs-pretrained/taco_pretrained/tacotron_model.ckpt-278000\n",
            "2020-11-04 18:43:24.476270: I tensorflow/core/platform/cpu_feature_guard.cc:142] Your CPU supports instructions that this TensorFlow binary was not compiled to use: AVX2 FMA\n",
            "2020-11-04 18:43:24.482003: I tensorflow/core/platform/profile_utils/cpu_utils.cc:94] CPU Frequency: 2200185000 Hz\n",
            "2020-11-04 18:43:24.482320: I tensorflow/compiler/xla/service/service.cc:168] XLA service 0xa3f2380 initialized for platform Host (this does not guarantee that XLA will be used). Devices:\n",
            "2020-11-04 18:43:24.482389: I tensorflow/compiler/xla/service/service.cc:176]   StreamExecutor device (0): Host, Default Version\n",
            "2020-11-04 18:43:24.483587: I tensorflow/stream_executor/platform/default/dso_loader.cc:44] Successfully opened dynamic library libcuda.so.1\n",
            "2020-11-04 18:43:24.490931: E tensorflow/stream_executor/cuda/cuda_driver.cc:318] failed call to cuInit: CUDA_ERROR_NO_DEVICE: no CUDA-capable device is detected\n",
            "2020-11-04 18:43:24.490978: I tensorflow/stream_executor/cuda/cuda_diagnostics.cc:156] kernel driver does not appear to be running on this host (73fc866f17a6): /proc/driver/nvidia/version does not exist\n",
            "Created the mel spectrogram\n",
            "Synthesizing the waveform:\n",
            "{| ████████████████ 95000/96000 | Batch Size: 10 | Gen Rate: 2.7kHz | }float64\n",
            "\n",
            "Saved output as demo_output_0.wav\n",
            "\n",
            "\n",
            "['W e i s s ∗   Q u a n   W a n g   J o n a t h a n   S h e n   F e i   R e n \\n Z h i f e n g   C h e n   P a t r i c k   N g u y e n   R u o m i n g   P a n g   I g n a c i o   L o p e z   M o r e n o   Y o n g h u i   W u \\n \\n G o o g l e   I n c . \\n { j i a y e , n g y u z h , r o n w } @ g o o g l e . c o m \\n \\n A b s t r a c t \\n \\n W e   d e s c r i b e   a   n e u r a l   n e t w o r k - b a s e d   s y s t e m   f o r   t e x t - t o - s p e e c h   ( T T S )   s y n t h e s i s   t h a t \\n i s   a b l e   t o   g e n e r a t e   s p e e c h   a u d i o   i n   t h e   v o i c e   o f   d i f f e r e n t   s p e a k e r s ,   i n c l u d i n g   t h o s e \\n u n s e e n   d u r i n g   t r a i n i n g']\n",
            "Created the mel spectrogram\n",
            "Synthesizing the waveform:\n",
            "{| ████████████████ 152000/153600 | Batch Size: 16 | Gen Rate: 3.5kHz | }float64\n",
            "\n",
            "Saved output as demo_output_1.wav\n",
            "\n",
            "\n",
            "['O u r   s y s t e m   c o n s i s t s   o f   t h r e e   i n d e p e n d e n t l y   t r a i n e d   c o m p o - \\n n e n t s :   ( 1 )   a   s p e a k e r   e n c o d e r   n e t w o r k ,   t r a i n e d   o n   a   s p e a k e r   v e r i f i c a t i o n   t a s k   u s i n g   a n \\n i n d e p e n d e n t   d a t a s e t   o f   n o i s y   s p e e c h   w i t h o u t   t r a n s c r i p t s   f r o m   t h o u s a n d s   o f   s p e a k e r s , \\n t o   g e n e r a t e   a   f i x e d - d i m e n s i o n a l   e m b e d d i n g   v e c t o r   f r o m   o n l y   s e c o n d s   o f   r e f e r e n c e \\n s p e e c h   f r o m   a   t a r g e t   s p e a k e r ;   ( 2 )   a   s e q u e n c e - t o - s e q u e n c e   s y n t h e s i s   n e t w o r k   b a s e d \\n o n   T a c o t r o n   2   t h a t   g e n e r a t e s   a   m e l   s p e c t r o g r a m   f r o m   t e x t ,   c o n d i t i o n e d   o n   t h e \\n s p e a k e r   e m b e d d i n g ;   ( 3 )   a n   a u t o - r e g r e s s i v e   W a v e N e t - b a s e d   v o c o d e r   n e t w o r k   t h a t \\n c o n v e r t s   t h e   m e l   s p e c t r o g r a m   i n t o   t i m e   d o m a i n   w a v e f o r m   s a m p l e s']\n",
            "Created the mel spectrogram\n",
            "Synthesizing the waveform:\n",
            "{| ████████████████ 864500/873600 | Batch Size: 91 | Gen Rate: 4.9kHz | }float64\n",
            "\n",
            "Saved output as demo_output_2.wav\n",
            "\n",
            "\n",
            "['W e   d e m o n s t r a t e \\n t h a t   t h e   p r o p o s e d   m o d e l   i s   a b l e   t o   t r a n s f e r   t h e   k n o w l e d g e   o f   s p e a k e r   v a r i a b i l i t y \\n l e a r n e d   b y   t h e   d i s c r i m i n a t i v e l y - t r a i n e d   s p e a k e r   e n c o d e r   t o   t h e   m u l t i s p e a k e r   T T S \\n t a s k ,   a n d   i s   a b l e   t o   s y n t h e s i z e   n a t u r a l   s p e e c h   f r o m   s p e a k e r s   u n s e e n   d u r i n g   t r a i n i n g . \\n W e   q u a n t i f y   t h e   i m p o r t a n c e   o f   t r a i n i n g   t h e   s p e a k e r   e n c o d e r   o n   a   l a r g e   a n d   d i v e r s e \\n s p e a k e r   s e t   i n   o r d e r   t o   o b t a i n   t h e   b e s t   g e n e r a l i z a t i o n   p e r f o r m a n c e']\n",
            "Created the mel spectrogram\n",
            "Synthesizing the waveform:\n",
            "{| ████████████████ 864500/873600 | Batch Size: 91 | Gen Rate: 5.0kHz | }float64\n",
            "\n",
            "Saved output as demo_output_3.wav\n",
            "\n",
            "\n",
            "['F i n a l l y ,   w e   s h o w \\n t h a t   r a n d o m l y   s a m p l e d   s p e a k e r   e m b e d d i n g s   c a n   b e   u s e d   t o   s y n t h e s i z e   s p e e c h   i n \\n t h e   v o i c e   o f   n o v e l   s p e a k e r s   d i s s i m i l a r   f r o m   t h o s e   u s e d   i n   t r a i n i n g ,   i n d i c a t i n g   t h a t \\n t h e   m o d e l   h a s   l e a r n e d   a   h i g h   q u a l i t y   s p e a k e r   r e p r e s e n t a t i o n . \\n \\n 1   I n t r o d u c t i o n \\n \\n T h e   g o a l   o f   t h i s   w o r k   i s   t o   b u i l d   a   T T S   s y s t e m   w h i c h   c a n   g e n e r a t e   n a t u r a l   s p e e c h   f o r   a   v a r i e t y   o f \\n s p e a k e r s   i n   a   d a t a   e f f i c i e n t   m a n n e r']\n",
            "Created the mel spectrogram\n",
            "Synthesizing the waveform:\n",
            "{| ████████████████ 342000/345600 | Batch Size: 36 | Gen Rate: 4.7kHz | }float64\n",
            "\n",
            "Saved output as demo_output_4.wav\n",
            "\n",
            "\n",
            "['W e   s p e c i f i c a l l y   a d d r e s s   a   z e r o - s h o t   l e a r n i n g   s e t t i n g ,   w h e r e   a \\n f e w   s e c o n d s   o f   u n t r a n s c r i b e d   r e f e r e n c e   a u d i o   f r o m   a   t a r g e t   s p e a k e r   i s   u s e d   t o   s y n t h e s i z e   n e w   s p e e c h \\n i n   t h a t   s p e a k e r ’ s   v o i c e ,   w i t h o u t   u p d a t i n g   a n y   m o d e l   p a r a m e t e r s']\n"
          ],
          "name": "stdout"
        }
      ]
    },
    {
      "cell_type": "code",
      "metadata": {
        "id": "sVpjo2vw3qYw",
        "outputId": "1641efdc-4e35-4197-81c3-64a6431256bc",
        "colab": {
          "base_uri": "https://localhost:8080/"
        }
      },
      "source": [
        "#!apt-get install libportaudio2\n"
      ],
      "execution_count": null,
      "outputs": [
        {
          "output_type": "stream",
          "text": [
            "Reading package lists... Done\n",
            "Building dependency tree       \n",
            "Reading state information... Done\n",
            "The following NEW packages will be installed:\n",
            "  libportaudio2\n",
            "0 upgraded, 1 newly installed, 0 to remove and 11 not upgraded.\n",
            "Need to get 64.6 kB of archives.\n",
            "After this operation, 215 kB of additional disk space will be used.\n",
            "Get:1 http://archive.ubuntu.com/ubuntu bionic/universe amd64 libportaudio2 amd64 19.6.0-1 [64.6 kB]\n",
            "Fetched 64.6 kB in 1s (50.9 kB/s)\n",
            "Selecting previously unselected package libportaudio2:amd64.\n",
            "(Reading database ... 144628 files and directories currently installed.)\n",
            "Preparing to unpack .../libportaudio2_19.6.0-1_amd64.deb ...\n",
            "Unpacking libportaudio2:amd64 (19.6.0-1) ...\n",
            "Setting up libportaudio2:amd64 (19.6.0-1) ...\n",
            "Processing triggers for libc-bin (2.27-3ubuntu1.2) ...\n",
            "/sbin/ldconfig.real: /usr/local/lib/python3.6/dist-packages/ideep4py/lib/libmkldnn.so.0 is not a symbolic link\n",
            "\n"
          ],
          "name": "stdout"
        }
      ]
    },
    {
      "cell_type": "code",
      "metadata": {
        "id": "96rjjlsyHEhk",
        "outputId": "09c1a71b-10ee-4a4f-d2a3-9d17f303e5bf",
        "colab": {
          "base_uri": "https://localhost:8080/"
        }
      },
      "source": [
        "!pip install moviepy"
      ],
      "execution_count": null,
      "outputs": [
        {
          "output_type": "stream",
          "text": [
            "Requirement already satisfied: moviepy in /usr/local/lib/python3.6/dist-packages (0.2.3.5)\n",
            "Requirement already satisfied: numpy in /usr/local/lib/python3.6/dist-packages (from moviepy) (1.17.1)\n",
            "Requirement already satisfied: imageio<3.0,>=2.1.2 in /usr/local/lib/python3.6/dist-packages (from moviepy) (2.4.1)\n",
            "Requirement already satisfied: tqdm<5.0,>=4.11.2 in /usr/local/lib/python3.6/dist-packages (from moviepy) (4.45.0)\n",
            "Requirement already satisfied: decorator<5.0,>=4.0.2 in /usr/local/lib/python3.6/dist-packages (from moviepy) (4.4.2)\n",
            "Requirement already satisfied: pillow in /usr/local/lib/python3.6/dist-packages (from imageio<3.0,>=2.1.2->moviepy) (7.0.0)\n"
          ],
          "name": "stdout"
        }
      ]
    },
    {
      "cell_type": "code",
      "metadata": {
        "id": "b_coCIZexcK0"
      },
      "source": [
        "\n",
        "\n",
        "from moviepy.video.io.ffmpeg_tools import ffmpeg_extract_subclip\n",
        "  "
      ],
      "execution_count": 110,
      "outputs": []
    },
    {
      "cell_type": "code",
      "metadata": {
        "id": "Cu7wJqF8Hw3E",
        "outputId": "a5cafbb8-462d-4d03-c356-f90b534d320f",
        "colab": {
          "base_uri": "https://localhost:8080/"
        }
      },
      "source": [
        "import os, os.path\n",
        "\n",
        "# simple version for working with CWD\n",
        "numberOfAudios = len([name for name in os.listdir('/content/Real-Time-Voice-Cloning') if (os.path.isfile(name) and os.path.splitext(name)[1] == '.wav')]) \n",
        "print(numberOfAudios)"
      ],
      "execution_count": 111,
      "outputs": [
        {
          "output_type": "stream",
          "text": [
            "2\n"
          ],
          "name": "stdout"
        }
      ]
    },
    {
      "cell_type": "code",
      "metadata": {
        "id": "IG6VVKmaH0_I",
        "outputId": "084de04e-596b-4648-dab7-c322b54c207f",
        "colab": {
          "base_uri": "https://localhost:8080/"
        }
      },
      "source": [
        "beginTime = 5\n",
        "endTime = 15\n",
        "videoPath = \"/content/drive/My Drive/good.mp4\"\n",
        "for i in range(numberOfAudios):\n",
        "  output = \"/content/Real-Time-Voice-Cloning/video%d.mp4\" % (i)\n",
        "  ffmpeg_extract_subclip(videoPath, beginTime, endTime, output)\n",
        "  beginTime = endTime\n",
        "  endTime = endTime + 7"
      ],
      "execution_count": 112,
      "outputs": [
        {
          "output_type": "stream",
          "text": [
            "\n",
            "[MoviePy] Running:\n",
            ">>> /usr/bin/ffmpeg -y -i /content/drive/My Drive/good.mp4 -ss 5.00 -t 10.00 -vcodec copy -acodec copy /content/Real-Time-Voice-Cloning/video0.mp4\n",
            "... command successful.\n",
            "\n",
            "[MoviePy] Running:\n",
            ">>> /usr/bin/ffmpeg -y -i /content/drive/My Drive/good.mp4 -ss 15.00 -t 7.00 -vcodec copy -acodec copy /content/Real-Time-Voice-Cloning/video1.mp4\n",
            "... command successful.\n"
          ],
          "name": "stdout"
        }
      ]
    },
    {
      "cell_type": "code",
      "metadata": {
        "id": "6X2tj-uhMszY",
        "outputId": "8521f8db-18b7-4fd5-b38a-7703e1cf8236",
        "colab": {
          "base_uri": "https://localhost:8080/"
        }
      },
      "source": [
        "!cd /content/ && git clone https://github.com/Rudrabha/Wav2Lip.git"
      ],
      "execution_count": 113,
      "outputs": [
        {
          "output_type": "stream",
          "text": [
            "fatal: destination path 'Wav2Lip' already exists and is not an empty directory.\n"
          ],
          "name": "stdout"
        }
      ]
    },
    {
      "cell_type": "code",
      "metadata": {
        "id": "q3ge3czENlio",
        "outputId": "5535c410-5d4a-42f1-c793-556d8196d4db",
        "colab": {
          "base_uri": "https://localhost:8080/"
        }
      },
      "source": [
        "!pip uninstall tensorflow tensorflow-gpu"
      ],
      "execution_count": 114,
      "outputs": [
        {
          "output_type": "stream",
          "text": [
            "Uninstalling tensorflow-1.15.0:\n",
            "  Would remove:\n",
            "    /usr/local/bin/estimator_ckpt_converter\n",
            "    /usr/local/bin/freeze_graph\n",
            "    /usr/local/bin/saved_model_cli\n",
            "    /usr/local/bin/tensorboard\n",
            "    /usr/local/bin/tf_upgrade_v2\n",
            "    /usr/local/bin/tflite_convert\n",
            "    /usr/local/bin/toco\n",
            "    /usr/local/bin/toco_from_protos\n",
            "    /usr/local/lib/python3.6/dist-packages/tensorflow-1.15.0.dist-info/*\n",
            "    /usr/local/lib/python3.6/dist-packages/tensorflow/*\n",
            "    /usr/local/lib/python3.6/dist-packages/tensorflow_core/*\n",
            "Proceed (y/n)? y\n",
            "  Successfully uninstalled tensorflow-1.15.0\n",
            "\u001b[33mWARNING: Skipping tensorflow-gpu as it is not installed.\u001b[0m\n"
          ],
          "name": "stdout"
        }
      ]
    },
    {
      "cell_type": "code",
      "metadata": {
        "id": "fbH2ID5gNnB8",
        "outputId": "ca093b07-60b3-4c87-917a-d8dae9e8cb3d",
        "colab": {
          "base_uri": "https://localhost:8080/"
        }
      },
      "source": [
        "!cd /content/Wav2Lip/ && pip install -r requirements.txt"
      ],
      "execution_count": 115,
      "outputs": [
        {
          "output_type": "stream",
          "text": [
            "Processing /root/.cache/pip/wheels/49/1d/38/c8ad12fcad67569d8e730c3275be5e581bd589558484a0f881/librosa-0.7.0-cp36-none-any.whl\n",
            "Requirement already satisfied: numpy==1.17.1 in /usr/local/lib/python3.6/dist-packages (from -r requirements.txt (line 2)) (1.17.1)\n",
            "Requirement already satisfied: opencv-contrib-python==4.2.0.34 in /usr/local/lib/python3.6/dist-packages (from -r requirements.txt (line 3)) (4.2.0.34)\n",
            "Requirement already satisfied: opencv-python==4.1.0.25 in /usr/local/lib/python3.6/dist-packages (from -r requirements.txt (line 4)) (4.1.0.25)\n",
            "Collecting tensorflow==1.12.0\n",
            "  Using cached https://files.pythonhosted.org/packages/22/cc/ca70b78087015d21c5f3f93694107f34ebccb3be9624385a911d4b52ecef/tensorflow-1.12.0-cp36-cp36m-manylinux1_x86_64.whl\n",
            "Requirement already satisfied: torch==1.1.0 in /usr/local/lib/python3.6/dist-packages (from -r requirements.txt (line 6)) (1.1.0)\n",
            "Requirement already satisfied: torchvision==0.3.0 in /usr/local/lib/python3.6/dist-packages (from -r requirements.txt (line 7)) (0.3.0)\n",
            "Requirement already satisfied: tqdm==4.45.0 in /usr/local/lib/python3.6/dist-packages (from -r requirements.txt (line 8)) (4.45.0)\n",
            "Requirement already satisfied: numba==0.48 in /usr/local/lib/python3.6/dist-packages (from -r requirements.txt (line 9)) (0.48.0)\n",
            "Requirement already satisfied: decorator>=3.0.0 in /usr/local/lib/python3.6/dist-packages (from librosa==0.7.0->-r requirements.txt (line 1)) (4.4.2)\n",
            "Requirement already satisfied: soundfile>=0.9.0 in /usr/local/lib/python3.6/dist-packages (from librosa==0.7.0->-r requirements.txt (line 1)) (0.10.3.post1)\n",
            "Requirement already satisfied: resampy>=0.2.0 in /usr/local/lib/python3.6/dist-packages (from librosa==0.7.0->-r requirements.txt (line 1)) (0.2.2)\n",
            "Requirement already satisfied: six>=1.3 in /usr/local/lib/python3.6/dist-packages (from librosa==0.7.0->-r requirements.txt (line 1)) (1.15.0)\n",
            "Requirement already satisfied: joblib>=0.12 in /usr/local/lib/python3.6/dist-packages (from librosa==0.7.0->-r requirements.txt (line 1)) (0.17.0)\n",
            "Requirement already satisfied: audioread>=2.0.0 in /usr/local/lib/python3.6/dist-packages (from librosa==0.7.0->-r requirements.txt (line 1)) (2.1.9)\n",
            "Requirement already satisfied: scikit-learn!=0.19.0,>=0.14.0 in /usr/local/lib/python3.6/dist-packages (from librosa==0.7.0->-r requirements.txt (line 1)) (0.22.2.post1)\n",
            "Requirement already satisfied: scipy>=1.0.0 in /usr/local/lib/python3.6/dist-packages (from librosa==0.7.0->-r requirements.txt (line 1)) (1.4.1)\n",
            "Requirement already satisfied: gast>=0.2.0 in /usr/local/lib/python3.6/dist-packages (from tensorflow==1.12.0->-r requirements.txt (line 5)) (0.2.2)\n",
            "Requirement already satisfied: wheel>=0.26 in /usr/local/lib/python3.6/dist-packages (from tensorflow==1.12.0->-r requirements.txt (line 5)) (0.35.1)\n",
            "Requirement already satisfied: grpcio>=1.8.6 in /usr/local/lib/python3.6/dist-packages (from tensorflow==1.12.0->-r requirements.txt (line 5)) (1.33.1)\n",
            "Collecting tensorboard<1.13.0,>=1.12.0\n",
            "  Using cached https://files.pythonhosted.org/packages/07/53/8d32ce9471c18f8d99028b7cef2e5b39ea8765bd7ef250ca05b490880971/tensorboard-1.12.2-py3-none-any.whl\n",
            "Requirement already satisfied: astor>=0.6.0 in /usr/local/lib/python3.6/dist-packages (from tensorflow==1.12.0->-r requirements.txt (line 5)) (0.8.1)\n",
            "Requirement already satisfied: keras-preprocessing>=1.0.5 in /usr/local/lib/python3.6/dist-packages (from tensorflow==1.12.0->-r requirements.txt (line 5)) (1.1.2)\n",
            "Requirement already satisfied: protobuf>=3.6.1 in /usr/local/lib/python3.6/dist-packages (from tensorflow==1.12.0->-r requirements.txt (line 5)) (3.12.4)\n",
            "Requirement already satisfied: absl-py>=0.1.6 in /usr/local/lib/python3.6/dist-packages (from tensorflow==1.12.0->-r requirements.txt (line 5)) (0.10.0)\n",
            "Requirement already satisfied: keras-applications>=1.0.6 in /usr/local/lib/python3.6/dist-packages (from tensorflow==1.12.0->-r requirements.txt (line 5)) (1.0.8)\n",
            "Requirement already satisfied: termcolor>=1.1.0 in /usr/local/lib/python3.6/dist-packages (from tensorflow==1.12.0->-r requirements.txt (line 5)) (1.1.0)\n",
            "Requirement already satisfied: pillow>=4.1.1 in /usr/local/lib/python3.6/dist-packages (from torchvision==0.3.0->-r requirements.txt (line 7)) (7.0.0)\n",
            "Requirement already satisfied: llvmlite<0.32.0,>=0.31.0dev0 in /usr/local/lib/python3.6/dist-packages (from numba==0.48->-r requirements.txt (line 9)) (0.31.0)\n",
            "Requirement already satisfied: setuptools in /usr/local/lib/python3.6/dist-packages (from numba==0.48->-r requirements.txt (line 9)) (50.3.2)\n",
            "Requirement already satisfied: cffi>=1.0 in /usr/local/lib/python3.6/dist-packages (from soundfile>=0.9.0->librosa==0.7.0->-r requirements.txt (line 1)) (1.14.3)\n",
            "Requirement already satisfied: werkzeug>=0.11.10 in /usr/local/lib/python3.6/dist-packages (from tensorboard<1.13.0,>=1.12.0->tensorflow==1.12.0->-r requirements.txt (line 5)) (1.0.1)\n",
            "Requirement already satisfied: markdown>=2.6.8 in /usr/local/lib/python3.6/dist-packages (from tensorboard<1.13.0,>=1.12.0->tensorflow==1.12.0->-r requirements.txt (line 5)) (3.3.2)\n",
            "Requirement already satisfied: h5py in /usr/local/lib/python3.6/dist-packages (from keras-applications>=1.0.6->tensorflow==1.12.0->-r requirements.txt (line 5)) (2.10.0)\n",
            "Requirement already satisfied: pycparser in /usr/local/lib/python3.6/dist-packages (from cffi>=1.0->soundfile>=0.9.0->librosa==0.7.0->-r requirements.txt (line 1)) (2.20)\n",
            "Requirement already satisfied: importlib-metadata; python_version < \"3.8\" in /usr/local/lib/python3.6/dist-packages (from markdown>=2.6.8->tensorboard<1.13.0,>=1.12.0->tensorflow==1.12.0->-r requirements.txt (line 5)) (2.0.0)\n",
            "Requirement already satisfied: zipp>=0.5 in /usr/local/lib/python3.6/dist-packages (from importlib-metadata; python_version < \"3.8\"->markdown>=2.6.8->tensorboard<1.13.0,>=1.12.0->tensorflow==1.12.0->-r requirements.txt (line 5)) (3.3.1)\n",
            "Installing collected packages: librosa, tensorboard, tensorflow\n",
            "  Found existing installation: librosa 0.8.0\n",
            "    Uninstalling librosa-0.8.0:\n",
            "      Successfully uninstalled librosa-0.8.0\n",
            "  Found existing installation: tensorboard 1.15.0\n",
            "    Uninstalling tensorboard-1.15.0:\n",
            "      Successfully uninstalled tensorboard-1.15.0\n",
            "Successfully installed librosa-0.7.0 tensorboard-1.12.2 tensorflow-1.12.0\n"
          ],
          "name": "stdout"
        }
      ]
    },
    {
      "cell_type": "code",
      "metadata": {
        "id": "ii3j_I39Nu18",
        "outputId": "12035f2e-6e04-4da1-e13b-6bbe6bda1b54",
        "colab": {
          "base_uri": "https://localhost:8080/"
        }
      },
      "source": [
        "!wget \"https://www.adrianbulat.com/downloads/python-fan/s3fd-619a316812.pth\" -O \"/content/Wav2Lip/face_detection/detection/sfd/s3fd.pth\"\n",
        "#only once"
      ],
      "execution_count": null,
      "outputs": [
        {
          "output_type": "stream",
          "text": [
            "--2020-11-04 13:34:55--  https://www.adrianbulat.com/downloads/python-fan/s3fd-619a316812.pth\n",
            "Resolving www.adrianbulat.com (www.adrianbulat.com)... 45.136.29.207\n",
            "Connecting to www.adrianbulat.com (www.adrianbulat.com)|45.136.29.207|:443... connected.\n",
            "HTTP request sent, awaiting response... 200 OK\n",
            "Length: 89843225 (86M) [application/octet-stream]\n",
            "Saving to: ‘/content/Wav2Lip/face_detection/detection/sfd/s3fd.pth’\n",
            "\n",
            "/content/Wav2Lip/fa 100%[===================>]  85.68M  10.8MB/s    in 9.9s    \n",
            "\n",
            "2020-11-04 13:35:06 (8.69 MB/s) - ‘/content/Wav2Lip/face_detection/detection/sfd/s3fd.pth’ saved [89843225/89843225]\n",
            "\n"
          ],
          "name": "stdout"
        }
      ]
    },
    {
      "cell_type": "code",
      "metadata": {
        "id": "-p2CwixrNyew"
      },
      "source": [
        "!cp -ri \"/content/drive/My Drive/wav2lip.pth\" /content/Wav2Lip/checkpoints/\n",
        "#only once"
      ],
      "execution_count": null,
      "outputs": []
    },
    {
      "cell_type": "code",
      "metadata": {
        "id": "ZQdDCk_LN4qE",
        "outputId": "58b7d7f5-93f6-4ace-937a-e901aaafbcbb",
        "colab": {
          "base_uri": "https://localhost:8080/"
        }
      },
      "source": [
        "cd /content/Wav2Lip/"
      ],
      "execution_count": 116,
      "outputs": [
        {
          "output_type": "stream",
          "text": [
            "/content/Wav2Lip\n"
          ],
          "name": "stdout"
        }
      ]
    },
    {
      "cell_type": "code",
      "metadata": {
        "id": "i4lCV0KHTk6k"
      },
      "source": [
        "#deprecated#!python inference.py --checkpoint_path /content/drive/'My Drive'/wav2lip.pth --face /content/Real-Time-Voice-Cloning/video0.mp4 --audio /content/Real-Time-Voice-Cloning/demo_output_0.wav --outfile results/result_voice1.mp4"
      ],
      "execution_count": 117,
      "outputs": []
    },
    {
      "cell_type": "code",
      "metadata": {
        "id": "31aT_aRiN7RQ"
      },
      "source": [
        "import subprocess \n",
        "\n",
        "for i in range(numberOfAudios):\n",
        "  command = \"python inference.py --checkpoint_path /content/drive/'My Drive'/wav2lip.pth --face /content/Real-Time-Voice-Cloning/video{}.mp4 --audio /content/Real-Time-Voice-Cloning/demo_output_{}.wav --outfile results/result_voice{}.mp4\".format(i, i, i)\n",
        "  subprocess.call(command, shell=True)\n",
        "  "
      ],
      "execution_count": 118,
      "outputs": []
    },
    {
      "cell_type": "code",
      "metadata": {
        "id": "rVfb_4g5PyKo",
        "outputId": "a28bf95c-4356-44be-e7be-ea2cb63ae722",
        "colab": {
          "base_uri": "https://localhost:8080/"
        }
      },
      "source": [
        "from moviepy.editor import *\n",
        "import os\n",
        "from natsort import natsorted\n",
        "\n",
        "L =[]\n",
        "\n",
        "for root, dirs, files in os.walk(\"/content/Wav2Lip/results\"):\n",
        "\n",
        "    #files.sort()\n",
        "    files = natsorted(files)\n",
        "    for file in files:\n",
        "        if os.path.splitext(file)[1] == '.mp4':\n",
        "            filePath = os.path.join(root, file)\n",
        "            video = VideoFileClip(filePath)\n",
        "            L.append(video)\n",
        "\n",
        "final_clip = concatenate_videoclips(L)\n",
        "final_clip.to_videofile(\"output.mp4\", fps=24, remove_temp=False)"
      ],
      "execution_count": 119,
      "outputs": [
        {
          "output_type": "stream",
          "text": [
            "[MoviePy] >>>> Building video output.mp4\n",
            "[MoviePy] Writing audio in outputTEMP_MPY_wvf_snd.mp3\n"
          ],
          "name": "stdout"
        },
        {
          "output_type": "stream",
          "text": [
            "100%|██████████| 343/343 [00:00<00:00, 928.97it/s]"
          ],
          "name": "stderr"
        },
        {
          "output_type": "stream",
          "text": [
            "[MoviePy] Done.\n",
            "[MoviePy] Writing video output.mp4\n"
          ],
          "name": "stdout"
        },
        {
          "output_type": "stream",
          "text": [
            "\n",
            "100%|██████████| 374/374 [00:03<00:00, 95.72it/s]\n"
          ],
          "name": "stderr"
        },
        {
          "output_type": "stream",
          "text": [
            "[MoviePy] Done.\n",
            "[MoviePy] >>>> Video ready: output.mp4 \n",
            "\n"
          ],
          "name": "stdout"
        }
      ]
    },
    {
      "cell_type": "code",
      "metadata": {
        "id": "OfiWjZUVQhaE",
        "outputId": "b43bc988-7e62-4b19-d228-c7069ba2aa4a",
        "colab": {
          "base_uri": "https://localhost:8080/"
        }
      },
      "source": [
        "!python --version"
      ],
      "execution_count": 120,
      "outputs": [
        {
          "output_type": "stream",
          "text": [
            "Python 3.6.9\n"
          ],
          "name": "stdout"
        }
      ]
    },
    {
      "cell_type": "code",
      "metadata": {
        "id": "Q1K3J5R-RS8Y"
      },
      "source": [
        "#clean\n",
        "dir_name = \"/content/Real-Time-Voice-Cloning\"\n",
        "test = os.listdir(dir_name)\n",
        "\n",
        "for item in test:\n",
        "    if item.endswith(\".wav\"):\n",
        "        os.remove(os.path.join(dir_name, item))"
      ],
      "execution_count": 121,
      "outputs": []
    },
    {
      "cell_type": "code",
      "metadata": {
        "id": "TyhjOGFCV6Ok"
      },
      "source": [
        "cd /content/Real-Time-Voice-Cloning"
      ],
      "execution_count": null,
      "outputs": []
    },
    {
      "cell_type": "code",
      "metadata": {
        "id": "Zqk7gmT6A8PE"
      },
      "source": [
        "import wave\n",
        "\n",
        "infiles = []\n",
        "for root, dirs, files in os.walk(\"/content/Real-Time-Voice-Cloning\"):\n",
        "    for file in files:\n",
        "        if file.endswith(\".wav\"):\n",
        "            infiles.append(os.path.join(root, file))\n",
        "\n",
        "outfile = \"sounds.wav\"\n",
        "\n",
        "data= []\n",
        "for infile in infiles:\n",
        "    w = wave.open(infile, 'rb')\n",
        "    data.append( [w.getparams(), w.readframes(w.getnframes())] )\n",
        "    w.close()\n",
        "    \n",
        "output = wave.open(outfile, 'wb')\n",
        "output.setparams(data[0][0])\n",
        "for i in range(len(data)):\n",
        "    output.writeframes(data[i][1])\n",
        "output.close()"
      ],
      "execution_count": 130,
      "outputs": []
    },
    {
      "cell_type": "code",
      "metadata": {
        "id": "ut3IGYDXWSng"
      },
      "source": [
        ""
      ],
      "execution_count": null,
      "outputs": []
    }
  ]
}